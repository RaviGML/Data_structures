{
  "cells": [
    {
      "metadata": {
        "_uuid": "4afc9c2fb41096af4cdd33a512d58bc414b29213"
      },
      "cell_type": "markdown",
      "source": ""
    },
    {
      "metadata": {
        "_uuid": "8f2839f25d086af736a60e9eeb907d3b93b6e0e5",
        "_cell_guid": "b1076dfc-b9ad-4769-8c92-a6c4dae69d19",
        "trusted": true
      },
      "cell_type": "markdown",
      "source": "**Wel come to slection sort!**\n\nSelection sort is another simple sorting algorithm. As the name suggest 'selection' we selection either minimum value or maximum value and we will move it to the its correct position.\n\nLets say we are delaing with finding minimum number and moving it the  index 0 and find the next minimum element in the list and move it to the index 1 and so on \n\nlets say list=[ 2, 3, 1, 10] <br> <br> <br>\n**Iteration 1:**\nIn the first step, we want to find the minimum value in the list and want to move it index 0, One simple approach is everytime consider your starting element  as minimum value and while travelling to end of list,  if you find any minimum value than this number simply swap this two numbers indices and at the end move first element with list[minimum] value and move on until you have no numbers to compare.<br><br>\n\nSo here I'm considering minimum=0 **(first index)** in the first iteration, So compare all the elements with list[minimum] if any other value is minimum than list[minimum] simply swap both these numbers indices.<br>\n\nlist[minimum]=2 <br>\n \n**compare (2,3) -> 3 is greater than 2 , so no swap operation is required.<br>\n\n**compare (2,1)** -> 1 is less than 2 so we need to swap these numbers indices  and the minimum=2 and  list[minimum]=1 <br>\n\n**next compare (1, 10)**-> 10 is greater than 1 so no swap is required.<br>\n\n**So , at the end of iteration, swap list[minimum] list[iteration_number]<br>\nSo, at the end of first iteration list =[1,3,2,10] , If we clearly observe list, the index 0 contains minimum value (2)<br>**\n\n**Iteration 2:**<br>\n**list=[1, 3, 2, 10]**<br>\nHere we want to find secondmost minimum value in the list  and move it to the index 1 position . In this iteration we can move from index 1 because index 0 has contains already minimum value.<br>\n list=[1, **3**, 2, 10]<br>\n**minimum=1 and list[minimum]=3** and we have to compare **list[minimum] all othe values righ to the list[minimum]**<br>\n\n **compare(3,2)**-> 3 is greater than 2 so, swap both these numbers indices  **minimum=2 and list[minimum]=2**<br>\n \n **compare(2,10)** -> 2 is less than 10 so no need swapping and list remain same.<br>\n \n \n  so at the end of second iteration **minimum=2 so swap list[minimum] and list[iteration_number]\n   and our list becomes equal to =[1, 2, 3, 10] and the list is in the sorted order.<br>\n  \n  And this algortihms take 'N' Iterations to find top N minimum values and another loop inside every iteration.<br>\n  \n \n\n\n"
    },
    {
      "metadata": {
        "_cell_guid": "79c7e3d0-c299-4dcb-8224-4455121ee9b0",
        "_uuid": "d629ff2d2480ee46fbb7e2d37f6b5fab8052498a",
        "trusted": true
      },
      "cell_type": "code",
      "source": "def selection_sort(array):\n    for i in range(len(array)):\n        minimum=i\n        for j in range(i,len(array)):\n            if(array[j]<array[minimum]):\n                minimum=j\n        print(\"list after \",i+1,\"th iteration\")\n        print(array)\n        array[i],array[minimum]=array[minimum],array[i]\n    return array\n\n        \na=selection_sort([3,2,1,0])",
      "execution_count": null,
      "outputs": []
    },
    {
      "metadata": {
        "_uuid": "a111cc62b31018c39c895dbf3b0803fee7419d79"
      },
      "cell_type": "markdown",
      "source": "**If we clearly observe the output , in each iteration small element in the list is moving towards to the left side.**\n\n**If we want to sort in the ascending order then we simply need find the maximum element and move keep it in the first positiona nd so on.**"
    },
    {
      "metadata": {
        "_uuid": "793f2b3c7c1d9823a1034c5c7fa18b774eec5fb6"
      },
      "cell_type": "markdown",
      "source": "**Time complexity**\n\nIn the first iteration we have to  make n-1 comparisons\nIn the next iteration we have to make n-2 comparisons and n-3, n-4.....upto 1.\n\n**so total comparisons = n-1 + n-2 + n-3+ .......+ 1 = O(n*(n-1)) = O($n^{2}$)**"
    },
    {
      "metadata": {
        "_uuid": "0968420473dac8ed65b354f6dfcde97fe7ac1c29"
      },
      "cell_type": "markdown",
      "source": "**Additional references **<br>\n1. [Simple visulization](https://www.hackerearth.com/practice/algorithms/sorting/selection-sort/visualize/)\n2. [Geeksforgeeks](https://www.geeksforgeeks.org/selection-sort/)\n"
    }
  ],
  "metadata": {
    "kernelspec": {
      "display_name": "Python 3",
      "language": "python",
      "name": "python3"
    },
    "language_info": {
      "name": "python",
      "version": "3.6.6",
      "mimetype": "text/x-python",
      "codemirror_mode": {
        "name": "ipython",
        "version": 3
      },
      "pygments_lexer": "ipython3",
      "nbconvert_exporter": "python",
      "file_extension": ".py"
    }
  },
  "nbformat": 4,
  "nbformat_minor": 1
}