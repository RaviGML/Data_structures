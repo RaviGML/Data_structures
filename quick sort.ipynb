{
  "cells": [
    {
      "metadata": {
        "_uuid": "8f2839f25d086af736a60e9eeb907d3b93b6e0e5",
        "_cell_guid": "b1076dfc-b9ad-4769-8c92-a6c4dae69d19",
        "trusted": true
      },
      "cell_type": "markdown",
      "source": "![](http://)![](http://)**Welcome to quick soritng!**"
    },
    {
      "metadata": {
        "_cell_guid": "79c7e3d0-c299-4dcb-8224-4455121ee9b0",
        "collapsed": true,
        "_uuid": "d629ff2d2480ee46fbb7e2d37f6b5fab8052498a",
        "trusted": false
      },
      "cell_type": "markdown",
      "source": "**As the name suggests it is a quick in terms of time complexity and it is a in -place algorithm.\" Qucik sort is a divide and conqure algorithm in which we divide problem inti sub-problems.**\n\n***In high level It picks an element in the array  as pivot and all the elements which are below are  in the array will be on the left side of pivot and all the elements which are higher than the pivot elements are  on the right hand side of pivot.***\n\n*lets say list=[3,1,10,2] and pivot=2 then pivot kept at its actual poisiton and all elemts less than pivot are left side of pivot and all the elements which are higher are right hand side of the pivot list=[1,2,10,3] and next we choose another elemtn as pivot and again we partitioon around the pivot*\n\n\nThere are different chioces are available while choosing the pivot \n\n**1. Pick the last element as the pivot ** <br>\n**2. pick the first element as pivot every time**<br>\n**3.choose a radom value as pivot everytime **<br>\n\n**The whole idea is choose one of the value as the pivot and partiotion around that value such that all the elements which are less than pivot should left hand side of the pivot and all the elements which are higher should be on the right hand side of the pivot **\n"
    },
    {
      "metadata": {
        "_uuid": "b237294d70b25e763452a70bf0f11bdc7766e687"
      },
      "cell_type": "markdown",
      "source": "In quick sort we have two main functions to do :\n\n**1. Partintioning the list in a way such that pivot occupies its correct position in the list\n2. Doing the step 1  operation on the subarrays.**\n\n**Example:\nlist=[3,8,1,4,10,2] and consider last element as pivot which is equal to 2**\n\n***1. partition involves in the process of finding the correct position for pivot 2 which is list=[1,2,3,8,4,10]  ***\n\n**2. subarrays will be [1] and [2,3,8,4,10] and the same operation will be done on this subarrays.**"
    },
    {
      "metadata": {
        "trusted": true,
        "_uuid": "90fdb9ada3b7b5ddcf95879e24228ec9de358cb0"
      },
      "cell_type": "code",
      "source": "def quick_sort(array,start,end):\n\tif(start<end):\n\t\tindex=partition(array,start,end)\n\t\tquick_sort(array,start,index-1)\n\t\tquick_sort(array,index+1,end)\n\telse:\n\t\tprint(array)\ndef partition(array,low,high):\n\tpivot=array[high]\n\ti=low-1\n\tfor j in range(low,high):\n\t\tif(array[j]<pivot):\n\t\t\ti=i+1\n\t\t\tarray[i],array[j]=array[j],array[i]\n\ti=i+1\n\tarray[i],array[high]=array[high],array[i]\n\treturn i\n\t\n\nimport numpy as np\narray=[3,2,10,20]  #-1,10,30\narray=[3,2,10,20,-1,10,30]  #\narray=np.arange(10,0,-1)\n#print((array))\n#array=[3,1,10,2]\nprint(\"The inittial array is \",array)\nquick_sort.check=0\nquick_sort(array,0,len(array)-1)",
      "execution_count": null,
      "outputs": []
    },
    {
      "metadata": {
        "_uuid": "b3d4eb29b95b8be4dddda5b3eff4c2b0e91b653a"
      },
      "cell_type": "markdown",
      "source": ""
    },
    {
      "metadata": {
        "_uuid": "e4a681d745b25e8578bb85526c06ed4761e69d31"
      },
      "cell_type": "markdown",
      "source": "* 1. **TIme complexity analysis:**<br>\n**Best case:**\n\n\n\n\n\n\n\n\n"
    },
    {
      "metadata": {
        "trusted": true,
        "_uuid": "a142f2dc57f8ca89994c95f7a954e814f4183aca"
      },
      "cell_type": "code",
      "source": "from IPython.display import Image\nfrom IPython.core.display import HTML \nImage(url= \"https://ka-perseus-images.s3.amazonaws.com/21cd0d70813845d67fbb11496458214f90ad7cb8.png\")",
      "execution_count": 3,
      "outputs": [
        {
          "output_type": "execute_result",
          "execution_count": 3,
          "data": {
            "text/html": "<img src=\"https://ka-perseus-images.s3.amazonaws.com/21cd0d70813845d67fbb11496458214f90ad7cb8.png\"/>",
            "text/plain": "<IPython.core.display.Image object>"
          },
          "metadata": {}
        }
      ]
    },
    {
      "metadata": {
        "_uuid": "7540d1d2366879369909df434d70676c5c7e7c4b"
      },
      "cell_type": "markdown",
      "source": "**In the best case for every partition we get half elemnts in the first subarray and other half elements on the another subarray and to find the corerct positioin of the element we might required 'N' at each node which contains 'N' Elements. <br> <br>\n**\nFrom the above image,\nat each node we required 'cn' and such no.of  'cn' s equal to the depth of the tree which in $log_{2}$n\n\n \nand total time-complexity is **O(n. $log_{2}$n)**  <br><br>\n**worst case:**<br>"
    },
    {
      "metadata": {
        "trusted": true,
        "_uuid": "d1fd5facdb10d498ed8505b3c96a7ce3e7834a26"
      },
      "cell_type": "code",
      "source": "from IPython.display import Image\nfrom IPython.core.display import HTML \nImage(url= \"https://ka-perseus-images.s3.amazonaws.com/7da2ac32779bef669a6f05decb62f219a9132158.png\")",
      "execution_count": 5,
      "outputs": [
        {
          "output_type": "execute_result",
          "execution_count": 5,
          "data": {
            "text/html": "<img src=\"https://ka-perseus-images.s3.amazonaws.com/7da2ac32779bef669a6f05decb62f219a9132158.png\"/>",
            "text/plain": "<IPython.core.display.Image object>"
          },
          "metadata": {}
        }
      ]
    },
    {
      "metadata": {
        "_uuid": "496752a7290745c4f0514a3555cb5d2f8f960673"
      },
      "cell_type": "markdown",
      "source": "Worst case occurs in two cases <br>\n**1. when the given array is sorted in reverse order, if it is the case then for evey split , one of the partitions will contain no elements and the other partition will contain n-1  elements **\n\n**2. The chosen pivot is either maximum or minimum element of the subarray then our partiotioin is unbalanced which is not good. **\n\nFrom above tree,\ntotal time complexity = cn+ c(n-1)+ (n-2)+c(n-3) +...... =O((n-1).n/2)= O($n^{2}$)"
    },
    {
      "metadata": {
        "_uuid": "094cb8e3bd7ddc453d5529e80c85513bef9e4c5f"
      },
      "cell_type": "markdown",
      "source": "**Additional references:::**<br>\n [1.khan academy](https://www.khanacademy.org/computing/computer-science/algorithms/quick-sort/a/analysis-of-quicksort) <br>\n[2.wiki](https://en.wikipedia.org/wiki/Quicksort)\n\n\n\n"
    }
  ],
  "metadata": {
    "kernelspec": {
      "display_name": "Python 3",
      "language": "python",
      "name": "python3"
    },
    "language_info": {
      "name": "python",
      "version": "3.6.6",
      "mimetype": "text/x-python",
      "codemirror_mode": {
        "name": "ipython",
        "version": 3
      },
      "pygments_lexer": "ipython3",
      "nbconvert_exporter": "python",
      "file_extension": ".py"
    }
  },
  "nbformat": 4,
  "nbformat_minor": 1
}