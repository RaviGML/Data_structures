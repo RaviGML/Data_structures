{
  "cells": [
    {
      "metadata": {
        "_uuid": "53fa7059f376c994b9e411815afaee74c04c398d"
      },
      "cell_type": "markdown",
      "source": "# Welcome to bubble sorting!"
    },
    {
      "metadata": {
        "_uuid": "41d78844131db9266f5e22a28aab1b7beb7fa9e6"
      },
      "cell_type": "markdown",
      "source": "Bubble sorting is the simplest soritng algorithm among all the algorithms and in fact it is very easy to understand. So lets start \n\nWhat will come to your mind if I give few numbers and asked to sort them in ascending order.\n\nLets say we have a list=[3,2,1,10] and I asked you to sort them in the  ascending order.\n\nIn the first step you will take (3,2) and compare them, **3  is greater than 2 so we swap these two numbers which results in list=**[2,3,1,10] \n\nSo , In the next step we take (3,1) and compare them , as **3 is greater than 1 so we swap these two numbers which results in list=**[2,1,3,10] and next we compare (3,10) as **3 is already less than 10 we didb't perform swapping.** and at the end of first iteration list=[2,1,3,10]\n\n**If we clearly obesrve at the end of first iteration largest element in the list pushed to the right side **\n\n\n\nSo we again start starting of the list to check list=[2,1,3,10]\n\nIn first step we compare both(2,1) and 2 is greater than 1 so we need to swap these number which reults in list=[1,2,3,10]\n\nNext, we compare both (2,3) and they are in correct order so we didn't perform \n\nNext, we compare (3,10) and they are also in correct positioni so no need of swapping  and at the end of second iteration list=[1,2,3,10] which results in ascending order.\n\n\n**In each iteration the largest element is pushed towards to the right side so we can have atmost 'N' no.of outer iterations where 'N' equals to the length of input array/list**\n\n\n"
    },
    {
      "metadata": {
        "trusted": true,
        "_uuid": "bb02de6ccf7595e15ca337e1241dc452c132b407"
      },
      "cell_type": "code",
      "source": "def bubble_sort(array):\n\tfor i in range(len(array)):\n\t\tfor j in range(len(array)-i-1):\n\t\t\tif(array[j]>array[j+1]): #swap two elements in the array\n\t\t\t   array[j],array[j+1]=array[j+1],array[j]\n\t\tprint('Array list after ',i+1,'th iteration')\n\t\tprint(array)\n\treturn array\n\na=bubble_sort([10,3,2,1])\n#print(a)",
      "execution_count": 2,
      "outputs": [
        {
          "output_type": "stream",
          "text": "Array list after  1 th iteration\n[3, 2, 1, 10]\nArray list after  2 th iteration\n[2, 1, 3, 10]\nArray list after  3 th iteration\n[1, 2, 3, 10]\nArray list after  4 th iteration\n[1, 2, 3, 10]\n",
          "name": "stdout"
        }
      ]
    },
    {
      "metadata": {
        "_uuid": "05375fa87ab4f79f65cbe1e294086ed6d2a979de"
      },
      "cell_type": "markdown",
      "source": "**What is the time-complexity for bubble sort?**\n\n**Best case**\nBest case occured only when given list is already sorted. If the given list already sorted then we don't required to perform any comparions and time complexity would be **O(n)**\n\n**Worst case **\nIn the worst case the given list is sorted but in reverse order which requires n-1 +n-2+....+2+1 which equals to the (n-1)  n / 2= O($n^{2}$) "
    },
    {
      "metadata": {
        "_uuid": "d529f2ba1c2aee5f189cac3edc83b709ed148b2b"
      },
      "cell_type": "markdown",
      "source": "**Additional resources for bubble sort**<br>\n1.[Buble sort  visulization ](https://visualgo.net/bn/sorting)\n\n2.[Another  visulization ](https://www.hackerearth.com/practice/algorithms/sorting/bubble-sort/visualize/)\n\n3.[https://www.geeksforgeeks.org/bubble-sort/ ](https://www.geeksforgeeks.org/bubble-sort/)\n\n\n"
    }
  ],
  "metadata": {
    "kernelspec": {
      "display_name": "Python 3",
      "language": "python",
      "name": "python3"
    },
    "language_info": {
      "codemirror_mode": {
        "name": "ipython",
        "version": 3
      },
      "file_extension": ".py",
      "mimetype": "text/x-python",
      "name": "python",
      "nbconvert_exporter": "python",
      "pygments_lexer": "ipython3",
      "version": "3.6.6"
    }
  },
  "nbformat": 4,
  "nbformat_minor": 1
}