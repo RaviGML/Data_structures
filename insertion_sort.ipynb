{
  "cells": [
    {
      "metadata": {
        "_uuid": "8f2839f25d086af736a60e9eeb907d3b93b6e0e5",
        "_cell_guid": "b1076dfc-b9ad-4769-8c92-a6c4dae69d19",
        "trusted": true
      },
      "cell_type": "markdown",
      "source": "**Welcome to insertion sort!**"
    },
    {
      "metadata": {
        "_cell_guid": "79c7e3d0-c299-4dcb-8224-4455121ee9b0",
        "collapsed": true,
        "_uuid": "d629ff2d2480ee46fbb7e2d37f6b5fab8052498a",
        "trusted": false
      },
      "cell_type": "markdown",
      "source": "**One of the easiest another soritng algorithm known as insertion sort. If you are familiar with playing cards then it would be simple algorithm to understand.**\n\nOk!  Lets dive into the concept\n\n**how do you sort while playing the deck of cards game? **\n\n1. you have a few cards which are unsorted\n2. you will take the 2nd card and compare it with the first card and if 2nd card less than first card then we will swap these two cards and we leave it as it is if they are in correct order.\n3. Next you will take third card and compare it with fist and second elements and , if any swapping required wo do perform the swapping operations.\n4. And so on.\n\n**please watch the below video to get more intution about insertion algorithm.**\n\n[click here to view](https://www.youtube.com/watch?v=DbHRvcAN7G0)\n"
    },
    {
      "metadata": {
        "trusted": true,
        "_uuid": "5a7fffba85645443c656a9a5dd8174efb49182f1"
      },
      "cell_type": "code",
      "source": "def insertion_sort(array):\n\tfor i in range(len(array)):\n\t\tfor j in range(i,0,-1):\n\t\t\tif(array[j]<array[j-1]):\n\t\t\t\tarray[j],array[j-1]=array[j-1],array[j]\n\t\t\telse:\n\t\t\t\tbreak\n\t\tprint(array)\n\treturn array\n\n\na=insertion_sort([3,2,1,10,8,5,3,1,0,-1,99,100,-20,1000,-9])\nprint(a)",
      "execution_count": null,
      "outputs": []
    },
    {
      "metadata": {
        "_uuid": "181a8b37ec6f4655acf52ded7ef68584dc030df7"
      },
      "cell_type": "markdown",
      "source": "**Time complexity:**<br>\nIn First iteration we do 1 comparison and in second iteration we make 2 comparisions  and so on \n\n**Total = 1+2+3+...+n-1 = O((n-1) * n) = O($n^{2}$)**"
    },
    {
      "metadata": {
        "_uuid": "ec660150245feac365d3879759e2ad96f10a3b00"
      },
      "cell_type": "markdown",
      "source": "**Additional references:**<br>\n[1.geekforgeeks](https://www.geeksforgeeks.org/insertion-sort/)<br>\n[2.khan academy](https://www.khanacademy.org/computing/computer-science/algorithms/insertion-sort/a/insertion-sort)<br>\n[3.Hackerearth](https://www.hackerearth.com/practice/algorithms/sorting/insertion-sort/tutorial/) <br>\n[4.wikipedia](https://en.wikipedia.org/wiki/Insertion_sort)\n"
    }
  ],
  "metadata": {
    "kernelspec": {
      "display_name": "Python 3",
      "language": "python",
      "name": "python3"
    },
    "language_info": {
      "name": "python",
      "version": "3.6.6",
      "mimetype": "text/x-python",
      "codemirror_mode": {
        "name": "ipython",
        "version": 3
      },
      "pygments_lexer": "ipython3",
      "nbconvert_exporter": "python",
      "file_extension": ".py"
    }
  },
  "nbformat": 4,
  "nbformat_minor": 1
}